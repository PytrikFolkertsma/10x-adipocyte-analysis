{
 "cells": [
  {
   "cell_type": "code",
   "execution_count": null,
   "metadata": {},
   "outputs": [],
   "source": [
    "import loompy\n",
    "import glob\n",
    "import velocyto as vcy\n",
    "%matplotlib inline\n",
    "import matplotlib.pyplot as plt\n",
    "import numpy as np\n",
    "import pandas as pd\n",
    "import pprint"
   ]
  },
  {
   "cell_type": "code",
   "execution_count": 4,
   "metadata": {
    "collapsed": true
   },
   "outputs": [],
   "source": [
    "vlm = vcy.load_velocyto_hdf5('../output/velocyto/10x-180831_tsne33_velocity.hdf5')"
   ]
  },
  {
   "cell_type": "code",
   "execution_count": 5,
   "metadata": {},
   "outputs": [
    {
     "name": "stdout",
     "output_type": "stream",
     "text": [
      "[5146 3233 3031 ...  991  725  724]\n"
     ]
    },
    {
     "data": {
      "text/plain": [
       "2017.245022514979"
      ]
     },
     "execution_count": 5,
     "metadata": {},
     "output_type": "execute_result"
    }
   ],
   "source": [
    "print(vlm.S.sum(0))\n",
    "vlm.S.sum(0).mean()"
   ]
  },
  {
   "cell_type": "code",
   "execution_count": 4,
   "metadata": {
    "collapsed": true
   },
   "outputs": [],
   "source": [
    "vlm.ca['CellID'] = [x.decode('utf8') for x in vlm.ca['CellID']]\n",
    "vlm.ca['timepoint'] = [x.decode('utf8') for x in vlm.ca['timepoint']]"
   ]
  },
  {
   "cell_type": "code",
   "execution_count": 5,
   "metadata": {
    "collapsed": true
   },
   "outputs": [],
   "source": [
    "vlm.set_clusters(vlm.ca['timepoint'])"
   ]
  },
  {
   "cell_type": "code",
   "execution_count": null,
   "metadata": {
    "collapsed": true
   },
   "outputs": [],
   "source": [
    "#vlm.plot_fractions()"
   ]
  },
  {
   "cell_type": "code",
   "execution_count": null,
   "metadata": {
    "collapsed": true
   },
   "outputs": [],
   "source": [
    "timepoint_colors = {\"T1\": np.array([246,119,112]), \"T2\": np.array([163,164,32]), \"T3\": np.array([29,190,127]), \"T4\": np.array([30,177,243]), \"T5\": np.array([229,112,240])}\n",
    "timepoint_colors = {k:v/256 for k, v in timepoint_colors.items()}\n",
    "\n",
    "res05_colors = {0: np.array([246,119,112]), 1: np.array([220,139,33]), 10: np.array([182,158,33]), 11: np.array([125,172,32]), 2: np.array([27,184,64]), 3: np.array([29,191,140]), 4: np.array([31,191,195]), 5: np.array([30,181,237]), 6: np.array([123,172,252]), 7: np.array([198,128,252]), 8: np.array([243,105,225]), 9: np.array([253,103,176])}\n",
    "res05_colors = {k:v/256 for k, v in res05_colors.items()}\n",
    "\n",
    "vlm.set_clusters(vlm.ca['timepoint'], cluster_colors_dict=timepoint_colors)"
   ]
  },
  {
   "cell_type": "code",
   "execution_count": null,
   "metadata": {
    "collapsed": true
   },
   "outputs": [],
   "source": [
    "state_colors = {1: np.array([246,119,112]), 2: np.array([27,184,64]), 3: np.array([100,158,252,])}\n",
    "state_colors = {k:v/256 for k, v in state_colors.items()}"
   ]
  },
  {
   "cell_type": "code",
   "execution_count": null,
   "metadata": {
    "collapsed": true
   },
   "outputs": [],
   "source": [
    "plt.figure(None, (17,3.5))\n",
    "plt.subplot(141)\n",
    "vcy.scatter_viz(vlm.pcs[:,0], vlm.pcs[:,1], s=10, c=vlm.colorandum)\n",
    "plt.xlabel(\"PC1\"); plt.ylabel(\"PC2\")\n",
    "plt.subplot(142)\n",
    "vcy.scatter_viz(vlm.pcs[:,1], vlm.pcs[:,2], s=10, c=vlm.colorandum)\n",
    "plt.xlabel(\"PC2\"); plt.ylabel(\"PC3\")\n",
    "plt.subplot(143)\n",
    "vcy.scatter_viz(vlm.pcs[:,2], vlm.pcs[:,3], s=10, c=vlm.colorandum)\n",
    "plt.xlabel(\"PC3\"); plt.ylabel(\"PC4\")\n",
    "plt.subplot(144)\n",
    "vcy.scatter_viz(vlm.pcs[:,3], vlm.pcs[:,4],s=10, c=vlm.colorandum)\n",
    "plt.xlabel(\"PC4\"); plt.ylabel(\"PC5\")"
   ]
  },
  {
   "cell_type": "markdown",
   "metadata": {},
   "source": [
    "<h3>TSNE visualizations</h3>"
   ]
  },
  {
   "cell_type": "code",
   "execution_count": null,
   "metadata": {
    "collapsed": true
   },
   "outputs": [],
   "source": [
    "vlm.set_clusters(vlm.ca['timepoint'], cluster_colors_dict=timepoint_colors)\n",
    "\n",
    "plt.figure(figsize=(15,5))\n",
    "\n",
    "plt.subplot(121)\n",
    "vcy.scatter_viz(vlm.ts[:,0], vlm.ts[:,1], c=vlm.colorandum, s=1)\n",
    "\n",
    "colors_dict = {}\n",
    "for i in range(len(vlm.colorandum)):\n",
    "    colors_dict[vlm.ca['timepoint'][i]] = vlm.colorandum[i]\n",
    "\n",
    "plt.subplot(122)\n",
    "for zz, (k, v) in enumerate(list(colors_dict.items())[::-1]):\n",
    "    plt.scatter(1, zz/2., c=v, marker=\"s\", lw=0., edgecolor=\"k\", s=220)\n",
    "    plt.text(1.1, zz/2., k, fontdict={\"va\":\"center\", \"size\":15})\n",
    "plt.xlim(0.8,2)\n",
    "plt.ylim(-1,8)\n",
    "plt.axis(\"off\")"
   ]
  },
  {
   "cell_type": "code",
   "execution_count": null,
   "metadata": {
    "collapsed": true
   },
   "outputs": [],
   "source": [
    "vlm.set_clusters(vlm.ca['res.0.5'], cluster_colors_dict=res05_colors)\n",
    "\n",
    "plt.figure(figsize=(15,5))\n",
    "\n",
    "plt.subplot(121)\n",
    "vcy.scatter_viz(vlm.ts[:,0], vlm.ts[:,1], c=vlm.colorandum, s=1)\n",
    "\n",
    "colors_dict = {}\n",
    "for i in range(len(vlm.colorandum)):\n",
    "    colors_dict[vlm.ca['res.0.5'][i]] = vlm.colorandum[i]\n",
    "\n",
    "plt.subplot(122)\n",
    "for zz, (k, v) in enumerate(list(colors_dict.items())[::-1]):\n",
    "    plt.scatter(1, zz/2., c=v, marker=\"s\", lw=0., edgecolor=\"k\", s=220)\n",
    "    plt.text(1.1, zz/2., k, fontdict={\"va\":\"center\", \"size\":15})\n",
    "plt.xlim(0.8,2)\n",
    "plt.ylim(-1,8)\n",
    "\n",
    "plt.axis(\"off\")"
   ]
  },
  {
   "cell_type": "markdown",
   "metadata": {},
   "source": [
    "<h3>RNA velocity</h3>"
   ]
  },
  {
   "cell_type": "code",
   "execution_count": null,
   "metadata": {
    "collapsed": true
   },
   "outputs": [],
   "source": [
    "vlm.set_clusters(vlm.ca['timepoint'], timepoint_colors)\n",
    "plt.figure(None,(30,10))\n",
    "plt.subplot(121)\n",
    "vlm.plot_grid_arrows(quiver_scale=3,\n",
    "                    scatter_kwargs_dict={\"alpha\":0.35, \"lw\":0.35, \"edgecolor\":\"0.4\", \"s\":38, \"rasterized\":True}, min_mass=5.5, angles='xy', scale_units='xy',\n",
    "                    headaxislength=2.75, headlength=5, headwidth=4.8, minlength=1.5,\n",
    "                    plot_random=False, scale_type=\"relative\")\n",
    "\n",
    "\n",
    "colors_dict = {}\n",
    "for i in range(len(vlm.colorandum)):\n",
    "    colors_dict[vlm.ca['timepoint'][i]] = vlm.colorandum[i]\n",
    "\n",
    "plt.subplot(122)\n",
    "for zz, (k, v) in enumerate(list(colors_dict.items())[::-1]):\n",
    "    plt.scatter(1, zz/2., c=v, marker=\"s\", lw=0., edgecolor=\"k\", s=220)\n",
    "    plt.text(1.1, zz/2., k, fontdict={\"va\":\"center\", \"size\":15})\n",
    "plt.xlim(0.8,2)\n",
    "plt.ylim(-1,8)\n",
    "plt.axis('off')\n",
    "plt.savefig('/projects/pytrik/sc_adipose/analyze_10x_fluidigm/data/plots_slides/velocyto.pdf', bbox_inches='tight', pad_inches=0)"
   ]
  },
  {
   "cell_type": "code",
   "execution_count": null,
   "metadata": {
    "collapsed": true
   },
   "outputs": [],
   "source": [
    "vlm.set_clusters(vlm.ca['timepoint'], timepoint_colors)\n",
    "plt.figure(None,(45,30))\n",
    "vlm.plot_grid_arrows(quiver_scale=3.0,\n",
    "                    scatter_kwargs_dict={\"alpha\":0.35, \"lw\":2, \"edgecolor\":\"0.4\", \"s\":300, \"rasterized\":True}, min_mass=5.5, angles='xy', scale_units='xy',\n",
    "                    headaxislength=2.75, headlength=5, headwidth=4.8, minlength=1.5,\n",
    "                    plot_random=False, scale_type=\"relative\")\n",
    "plt.savefig('/projects/pytrik/sc_adipose/analyze_10x_fluidigm/data/plots_slides/velocyto.pdf', bbox_inches='tight', pad_inches=0)"
   ]
  },
  {
   "cell_type": "code",
   "execution_count": null,
   "metadata": {
    "collapsed": true
   },
   "outputs": [],
   "source": [
    "#vlm.set_clusters(vlm.ca['res.0.5'], res05_colors)\n",
    "vlm.set_clusters(vlm.ca['State'], state_colors)\n",
    "plt.figure(None,(15,10))\n",
    "vlm.plot_grid_arrows(quiver_scale=3,\n",
    "                    scatter_kwargs_dict={\"alpha\":0.35, \"lw\":0.35, \"edgecolor\":\"0.4\", \"s\":38, \"rasterized\":True}, min_mass=5.5, angles='xy', scale_units='xy',\n",
    "                    headaxislength=2.75, headlength=5, headwidth=4.8, minlength=1.5,\n",
    "                    plot_random=False, scale_type=\"relative\")\n"
   ]
  },
  {
   "cell_type": "code",
   "execution_count": null,
   "metadata": {
    "collapsed": true
   },
   "outputs": [],
   "source": [
    "vlm.set_clusters(vlm.ca['res.0.5'], res05_colors)\n",
    "plt.figure(None,(30,10))\n",
    "plt.subplot(121)\n",
    "vlm.plot_grid_arrows(quiver_scale=1.4,\n",
    "                    scatter_kwargs_dict={\"alpha\":0.35, \"lw\":0.35, \"edgecolor\":\"0.4\", \"s\":38, \"rasterized\":True}, min_mass=5.5, angles='xy', scale_units='xy',\n",
    "                    headaxislength=2.75, headlength=5, headwidth=4.8, minlength=1.5,\n",
    "                    plot_random=False, scale_type=\"relative\")\n",
    "\n",
    "\n",
    "colors_dict = {}\n",
    "for i in range(len(vlm.colorandum)):\n",
    "    colors_dict[vlm.ca['res.0.5'][i]] = vlm.colorandum[i]\n",
    "\n",
    "plt.subplot(122)\n",
    "for zz, (k, v) in enumerate(list(colors_dict.items())[::-1]):\n",
    "    plt.scatter(1, zz/2., c=v, marker=\"s\", lw=0., edgecolor=\"k\", s=220)\n",
    "    plt.text(1.1, zz/2., k, fontdict={\"va\":\"center\", \"size\":15})\n",
    "plt.xlim(0.8,2)\n",
    "plt.ylim(-1,8)\n",
    "plt.axis('off')"
   ]
  },
  {
   "cell_type": "code",
   "execution_count": null,
   "metadata": {
    "collapsed": true
   },
   "outputs": [],
   "source": [
    "vlm.set_clusters(vlm.ca['State'], state_colors)\n",
    "plt.figure(None,(30,10))\n",
    "plt.subplot(121)\n",
    "vlm.plot_grid_arrows(quiver_scale=3,\n",
    "                    scatter_kwargs_dict={\"alpha\":0.35, \"lw\":0.35, \"edgecolor\":\"0.4\", \"s\":38, \"rasterized\":True}, min_mass=5.5, angles='xy', scale_units='xy',\n",
    "                    headaxislength=2.75, headlength=5, headwidth=4.8, minlength=1.5,\n",
    "                    plot_random=False, scale_type=\"relative\")\n",
    "\n",
    "\n",
    "colors_dict = {}\n",
    "for i in range(len(vlm.colorandum)):\n",
    "    colors_dict[vlm.ca['State'][i]] = vlm.colorandum[i]\n",
    "\n",
    "plt.subplot(122)\n",
    "for zz, (k, v) in enumerate(list(colors_dict.items())[::-1]):\n",
    "    plt.scatter(1, zz/2., c=v, marker=\"s\", lw=0., edgecolor=\"k\", s=220)\n",
    "    plt.text(1.1, zz/2., k, fontdict={\"va\":\"center\", \"size\":15})\n",
    "plt.xlim(0.8,2)\n",
    "plt.ylim(-1,8)\n",
    "plt.axis('off')"
   ]
  },
  {
   "cell_type": "code",
   "execution_count": null,
   "metadata": {
    "collapsed": true
   },
   "outputs": [],
   "source": []
  },
  {
   "cell_type": "code",
   "execution_count": null,
   "metadata": {
    "collapsed": true
   },
   "outputs": [],
   "source": [
    "vlm.set_clusters(vlm.ca['State'], state_colors)\n",
    "colors_dict = {}\n",
    "for i in range(len(vlm.colorandum)):\n",
    "    colors_dict[vlm.ca['State'][i]] = vlm.colorandum[i]\n",
    "    \n",
    "plt.figure(None,(15,10))\n",
    "for zz, (k, v) in enumerate(list(colors_dict.items())[::-1]):\n",
    "    plt.scatter(1, zz/2., c=v, marker=\"s\", lw=0., edgecolor=\"k\", s=220)\n",
    "    plt.text(1.1, zz/2., k, fontdict={\"va\":\"center\", \"size\":15})\n",
    "plt.xlim(0.8,2)\n",
    "plt.ylim(-1,8)\n",
    "plt.axis('off')\n",
    "plt.savefig('../plots/180831_velocyto_phase_legend.pdf', bbox_inches='tight')"
   ]
  },
  {
   "cell_type": "code",
   "execution_count": null,
   "metadata": {
    "collapsed": true
   },
   "outputs": [],
   "source": [
    "vlm.set_clusters(vlm.ca['timepoint'], timepoint_colors)\n",
    "colors_dict = {}\n",
    "for i in range(len(vlm.colorandum)):\n",
    "    colors_dict[vlm.ca['timepoint'][i]] = vlm.colorandum[i]\n",
    "    \n",
    "plt.figure(None,(15,10))\n",
    "for zz, (k, v) in enumerate(list(colors_dict.items())[::-1]):\n",
    "    plt.scatter(1, zz/2., c=v, marker=\"s\", lw=0., edgecolor=\"k\", s=220)\n",
    "    plt.text(1.1, zz/2., k, fontdict={\"va\":\"center\", \"size\":15})\n",
    "plt.xlim(0.8,2)\n",
    "plt.ylim(-1,8)\n",
    "plt.axis('off')\n",
    "plt.savefig('../plots/180831_velocyto_timepoint_legend.pdf', bbox_inches='tight')"
   ]
  },
  {
   "cell_type": "code",
   "execution_count": null,
   "metadata": {
    "collapsed": true
   },
   "outputs": [],
   "source": [
    "vlm.set_clusters(vlm.ca['State'], state_colors)\n",
    "plt.figure(None,(45,30))\n",
    "vlm.plot_grid_arrows(quiver_scale=3.0,\n",
    "                    scatter_kwargs_dict={\"alpha\":0.35, \"lw\":2, \"edgecolor\":\"0.4\", \"s\":400, \"rasterized\":True}, min_mass=5.5, angles='xy', scale_units='xy',\n",
    "                    headaxislength=2.75, headlength=5, headwidth=4.8, minlength=1.5,\n",
    "                    plot_random=False, scale_type=\"relative\")\n",
    "plt.savefig('../plots/180831_velocyto_state.pdf', bbox_inches='tight', pad_inches=0)"
   ]
  }
 ],
 "metadata": {
  "kernelspec": {
   "display_name": "Python [conda env:3-4.4.0]",
   "language": "python",
   "name": "conda-env-3-4.4.0-py"
  },
  "language_info": {
   "codemirror_mode": {
    "name": "ipython",
    "version": 3
   },
   "file_extension": ".py",
   "mimetype": "text/x-python",
   "name": "python",
   "nbconvert_exporter": "python",
   "pygments_lexer": "ipython3",
   "version": "3.6.4"
  }
 },
 "nbformat": 4,
 "nbformat_minor": 2
}
